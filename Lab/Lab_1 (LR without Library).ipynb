{
 "cells": [
  {
   "cell_type": "code",
   "execution_count": 4,
   "id": "6c381360",
   "metadata": {},
   "outputs": [],
   "source": [
    "import numpy as np\n",
    "import matplotlib.pyplot as plt"
   ]
  },
  {
   "cell_type": "code",
   "execution_count": 5,
   "id": "85d9042f",
   "metadata": {},
   "outputs": [],
   "source": [
    "height=[170,141,164,130,120]\n",
    "weight=[80,64,71,50,45]\n",
    "X=np.array(height)\n",
    "y=np.array(weight)\n",
    "X_mean=np.mean(X)\n",
    "y_mean=np.mean(y)"
   ]
  },
  {
   "cell_type": "code",
   "execution_count": 6,
   "id": "65a8c0e2",
   "metadata": {},
   "outputs": [],
   "source": [
    "den=0\n",
    "num=0\n",
    "for i in range(len(height)):\n",
    "    a=X[i]-X_mean\n",
    "    b=y[i]-y_mean\n",
    "    c=a*b\n",
    "    num+=c\n",
    "    d=a*a\n",
    "    den+=d\n",
    "m=num/den\n",
    "c=y_mean-(m*X_mean)"
   ]
  },
  {
   "cell_type": "code",
   "execution_count": 7,
   "id": "47c40c6a",
   "metadata": {},
   "outputs": [
    {
     "name": "stdout",
     "output_type": "stream",
     "text": [
      "0.6576673866090713 -33.36177105831534\n"
     ]
    }
   ],
   "source": [
    "print(m,c)"
   ]
  },
  {
   "cell_type": "code",
   "execution_count": 8,
   "id": "cc23b961",
   "metadata": {},
   "outputs": [
    {
     "name": "stdout",
     "output_type": "stream",
     "text": [
      "[78.44168466522679, 59.36933045356372, 74.49568034557235, 52.13498920086393, 45.55831533477321]\n"
     ]
    }
   ],
   "source": [
    "y_predicted=[]\n",
    "for i in range(len(height)):\n",
    "    y_predicted.append(m*X[i]+c)\n",
    "print(y_predicted)"
   ]
  },
  {
   "cell_type": "code",
   "execution_count": 14,
   "id": "f3b32fe1",
   "metadata": {},
   "outputs": [
    {
     "name": "stdout",
     "output_type": "stream",
     "text": [
      "2.8622062507845625\n"
     ]
    }
   ],
   "source": [
    "def RMSE(y,y_predicted):\n",
    "    n=len(y)\n",
    "    sum=0\n",
    "    for i in range(n):\n",
    "        sum+=(y[i]-y_predicted[i])**2\n",
    "    return (sum/n)**0.5\n",
    "print(RMSE(y,y_predicted))"
   ]
  },
  {
   "cell_type": "code",
   "execution_count": 10,
   "id": "06034cd1",
   "metadata": {},
   "outputs": [
    {
     "name": "stdout",
     "output_type": "stream",
     "text": [
      "1.5734020314222925\n"
     ]
    }
   ],
   "source": [
    "def MAE(y,y_predicted):\n",
    "    n=len(y)\n",
    "    sum=0\n",
    "    for i in range(n):\n",
    "        sum+=abs(y[i]-y_predicted[i])\n",
    "    return (sum/n)**0.5\n",
    "print(MAE(y,y_predicted))"
   ]
  },
  {
   "cell_type": "code",
   "execution_count": 14,
   "id": "58836c61",
   "metadata": {},
   "outputs": [
    {
     "name": "stdout",
     "output_type": "stream",
     "text": [
      "0.9513525853798681\n"
     ]
    }
   ],
   "source": [
    "def RSquare(y,y_predicted):\n",
    "    n=len(y)\n",
    "    y_mean=np.mean(y)\n",
    "    num=0\n",
    "    den=0\n",
    "    for i in range(n):\n",
    "        num+=(y[i]-y_predicted[i])**2\n",
    "        den+=(y[i]-y_mean)**2\n",
    "    return 1-(num/den)\n",
    "print(RSquare(y,y_predicted))"
   ]
  },
  {
   "cell_type": "code",
   "execution_count": null,
   "id": "b8d5e22f",
   "metadata": {},
   "outputs": [],
   "source": []
  }
 ],
 "metadata": {
  "kernelspec": {
   "display_name": "Python 3 (ipykernel)",
   "language": "python",
   "name": "python3"
  },
  "language_info": {
   "codemirror_mode": {
    "name": "ipython",
    "version": 3
   },
   "file_extension": ".py",
   "mimetype": "text/x-python",
   "name": "python",
   "nbconvert_exporter": "python",
   "pygments_lexer": "ipython3",
   "version": "3.11.0"
  }
 },
 "nbformat": 4,
 "nbformat_minor": 5
}
