{
 "cells": [
  {
   "cell_type": "code",
   "execution_count": 1,
   "id": "e2695b91",
   "metadata": {},
   "outputs": [],
   "source": [
    "import numpy as np\n",
    "import pandas as pd\n",
    "import matplotlib.pyplot as plt"
   ]
  },
  {
   "cell_type": "markdown",
   "id": "293b06f2",
   "metadata": {},
   "source": [
    "### \n",
    "\n",
    "KNN - K nearest neighbour\n",
    "\n",
    "\n",
    "To find perfect k value - Elbow Method\n",
    "K's value should be\n",
    "-Odd\n",
    "-Less than no. of data\n",
    "\n",
    "Elbow Method used a graph b/w Error v/s K-Value\n",
    "(graph on copy)\n",
    "\n"
   ]
  },
  {
   "cell_type": "code",
   "execution_count": 37,
   "id": "6aa59329",
   "metadata": {},
   "outputs": [],
   "source": [
    "from sklearn.preprocessing import StandardScaler\n",
    "data = pd.read_csv('../Dataset/iris.csv')\n",
    "data.head()\n",
    "X = data.drop('species',axis=1)\n",
    "y=data['species']"
   ]
  },
  {
   "cell_type": "code",
   "execution_count": 38,
   "id": "e893750d",
   "metadata": {},
   "outputs": [],
   "source": [
    "from sklearn.model_selection import train_test_split\n",
    "X_train,X_test,y_train,y_test = train_test_split(X,y,test_size=0.2,random_state=0)"
   ]
  },
  {
   "cell_type": "code",
   "execution_count": 39,
   "id": "1bd6e844",
   "metadata": {},
   "outputs": [
    {
     "data": {
      "text/plain": [
       "array(['Iris-virginica', 'Iris-versicolor', 'Iris-setosa',\n",
       "       'Iris-virginica', 'Iris-setosa', 'Iris-virginica', 'Iris-setosa',\n",
       "       'Iris-versicolor', 'Iris-versicolor', 'Iris-versicolor',\n",
       "       'Iris-virginica', 'Iris-versicolor', 'Iris-versicolor',\n",
       "       'Iris-versicolor', 'Iris-virginica', 'Iris-setosa',\n",
       "       'Iris-versicolor', 'Iris-versicolor', 'Iris-setosa', 'Iris-setosa',\n",
       "       'Iris-virginica', 'Iris-versicolor', 'Iris-setosa', 'Iris-setosa',\n",
       "       'Iris-virginica', 'Iris-setosa', 'Iris-setosa', 'Iris-versicolor',\n",
       "       'Iris-versicolor', 'Iris-setosa'], dtype=object)"
      ]
     },
     "execution_count": 39,
     "metadata": {},
     "output_type": "execute_result"
    }
   ],
   "source": [
    "from sklearn.neighbors import KNeighborsClassifier\n",
    "KNN=KNeighborsClassifier(n_neighbors=5)\n",
    "model=KNN.fit(X_train,y_train)\n",
    "y_pred=model.predict(X_test)\n",
    "y_pred"
   ]
  },
  {
   "cell_type": "code",
   "execution_count": 40,
   "id": "d69afeca",
   "metadata": {},
   "outputs": [
    {
     "name": "stdout",
     "output_type": "stream",
     "text": [
      "Accuracy :  0.9666666666666667\n",
      "Precision:  0.9714285714285714\n",
      "Recall:  0.9666666666666667\n",
      "f1 score:  0.9672820512820512\n"
     ]
    }
   ],
   "source": [
    "from sklearn import metrics\n",
    "print(\"Accuracy : \",metrics.accuracy_score(y_test,y_pred))\n",
    "print(\"Precision: \",metrics.precision_score(y_test,y_pred,average='weighted'))\n",
    "print(\"Recall: \",metrics.recall_score(y_test,y_pred,average='weighted'))\n",
    "print(\"f1 score: \",metrics.f1_score(y_test,y_pred,average='weighted'))\n"
   ]
  },
  {
   "cell_type": "code",
   "execution_count": 41,
   "id": "219b542b",
   "metadata": {},
   "outputs": [
    {
     "data": {
      "text/plain": [
       "[<matplotlib.lines.Line2D at 0x12eefad8fd0>]"
      ]
     },
     "execution_count": 41,
     "metadata": {},
     "output_type": "execute_result"
    },
    {
     "data": {
      "image/png": "[encoded data removed]",
      "text/plain": [
       "<Figure size 640x480 with 1 Axes>"
      ]
     },
     "metadata": {},
     "output_type": "display_data"
    }
   ],
   "source": [
    "from sklearn.neighbors import KNeighborsClassifier\n",
    "from sklearn import metrics\n",
    "k_values=list(range(1,30))\n",
    "errors=[]\n",
    "\n",
    "for i in k_values:\n",
    "    KNN = KNeighborsClassifier(n_neighbors=i)\n",
    "    model = KNN.fit(X_train,y_train)\n",
    "    y_pred=model.predict(X_test)\n",
    "    error=1 - metrics.accuracy_score(y_test,y_pred)\n",
    "    errors.append(error)\n",
    "\n",
    "plt.plot(k_values,errors)"
   ]
  },
  {
   "cell_type": "code",
   "execution_count": null,
   "id": "9d19063b",
   "metadata": {},
   "outputs": [],
   "source": []
  }
 ],
 "metadata": {
  "kernelspec": {
   "display_name": "Python 3 (ipykernel)",
   "language": "python",
   "name": "python3"
  },
  "language_info": {
   "codemirror_mode": {
    "name": "ipython",
    "version": 3
   },
   "file_extension": ".py",
   "mimetype": "text/x-python",
   "name": "python",
   "nbconvert_exporter": "python",
   "pygments_lexer": "ipython3",
   "version": "3.11.0"
  }
 },
 "nbformat": 4,
 "nbformat_minor": 5
}
