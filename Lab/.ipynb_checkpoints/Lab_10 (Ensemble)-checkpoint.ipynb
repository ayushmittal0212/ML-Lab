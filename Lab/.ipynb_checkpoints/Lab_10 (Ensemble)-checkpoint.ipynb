{
 "cells": [
  {
   "cell_type": "code",
   "execution_count": 28,
   "id": "d9dc301d",
   "metadata": {},
   "outputs": [],
   "source": [
    "import numpy as np\n",
    "import pandas as pd\n",
    "import matplotlib.pyplot as plt"
   ]
  },
  {
   "cell_type": "code",
   "execution_count": 31,
   "id": "54fb74f2",
   "metadata": {},
   "outputs": [],
   "source": [
    "from sklearn.model_selection import train_test_split\n",
    "data = pd.read_csv('../Dataset/diabetes.csv')\n",
    "data.head()\n",
    "X = data.drop('Outcome',axis=1)\n",
    "y=data['Outcome']\n",
    "X_train, X_test, y_train, y_test = train_test_split(X, y, test_size=0.3, random_state=0)\n"
   ]
  },
  {
   "cell_type": "code",
   "execution_count": 40,
   "id": "e61bb03c",
   "metadata": {},
   "outputs": [],
   "source": [
    "# Homogenous\n",
    "\n",
    "from sklearn.tree import DecisionTreeClassifier\n",
    "from sklearn.ensemble import BaggingClassifier\n",
    "\n",
    "decision = DecisionTreeClassifier()\n",
    "bagging = BaggingClassifier(estimator=decision, n_estimators=3)\n",
    "\n",
    "model=bagging.fit(X_train,y_train)\n",
    "y_pred = model.predict(X_test)\n",
    "dtc=decision.fit(X_train,y_train)\n",
    "y_predD=dtc.predict(X_test)"
   ]
  },
  {
   "cell_type": "code",
   "execution_count": 41,
   "id": "055adb2d",
   "metadata": {},
   "outputs": [
    {
     "name": "stdout",
     "output_type": "stream",
     "text": [
      "Accuracy of bagging model:  0.7359307359307359\n",
      "Accuracy of decision tree model:  0.7272727272727273\n"
     ]
    }
   ],
   "source": [
    "from sklearn import metrics\n",
    "print('Accuracy of bagging model: ',metrics.accuracy_score(y_test,y_pred))\n",
    "print('Accuracy of decision tree model: ',metrics.accuracy_score(y_test,y_predD))"
   ]
  },
  {
   "cell_type": "code",
   "execution_count": 42,
   "id": "e2a2a667",
   "metadata": {},
   "outputs": [],
   "source": [
    "# Heterogenous\n",
    "\n",
    "from sklearn.tree import DecisionTreeClassifier\n",
    "from sklearn.svm import SVC\n",
    "from sklearn.neighbors import KNeighborsClassifier\n",
    "from sklearn.ensemble import VotingClassifier\n",
    "\n",
    "decision = DecisionTreeClassifier()\n",
    "KNN=KNeighborsClassifier()\n",
    "svc=SVC()\n",
    "\n",
    "voting = VotingClassifier(estimators=[('DT',decision),('knn',KNN),('SVC',svc)])\n",
    "modelHe = voting.fit(X_train,y_train)\n",
    "y_predHe = modelHe.predict(X_test)"
   ]
  },
  {
   "cell_type": "code",
   "execution_count": 43,
   "id": "c07397e2",
   "metadata": {},
   "outputs": [
    {
     "name": "stdout",
     "output_type": "stream",
     "text": [
      "Accuracy of HeteroBagging model:  0.7748917748917749\n"
     ]
    }
   ],
   "source": [
    "from sklearn import metrics\n",
    "print('Accuracy of HeteroBagging model: ',metrics.accuracy_score(y_test,y_predHe))"
   ]
  },
  {
   "cell_type": "code",
   "execution_count": null,
   "id": "306a0cf3",
   "metadata": {},
   "outputs": [],
   "source": []
  }
 ],
 "metadata": {
  "kernelspec": {
   "display_name": "Python 3 (ipykernel)",
   "language": "python",
   "name": "python3"
  },
  "language_info": {
   "codemirror_mode": {
    "name": "ipython",
    "version": 3
   },
   "file_extension": ".py",
   "mimetype": "text/x-python",
   "name": "python",
   "nbconvert_exporter": "python",
   "pygments_lexer": "ipython3",
   "version": "3.11.0"
  }
 },
 "nbformat": 4,
 "nbformat_minor": 5
}
